{
 "cells": [
  {
   "cell_type": "code",
   "execution_count": 1,
   "metadata": {},
   "outputs": [],
   "source": [
    "import serial\n",
    "\n",
    "def check_uart_commands():\n",
    "    # Initialize serial connection\n",
    "    ser = serial.Serial('/dev/ttyUSB0', 9600)  # Change '/dev/ttyUSB0' to your UART port\n",
    "    ser.flush()\n",
    "\n",
    "    # Store trajectory (example)\n",
    "    stored_trajectory = \"Sample trajectory data\"\n",
    "\n",
    "    while True:\n",
    "        if ser.in_waiting > 0:\n",
    "            # Read command from PC\n",
    "            command = ser.read().decode('utf-8')\n",
    "\n",
    "            # Check if command is 'U'\n",
    "            if command == 'U':\n",
    "                # Send stored trajectory to PC\n",
    "                ser.write(stored_trajectory.encode('utf-8'))\n",
    "                ser.flush()\n",
    "                print(\"Trajectory sent to PC\")\n",
    "\n",
    "# Example usage\n",
    "check_uart_commands()\n"
   ]
  },
  {
   "cell_type": "code",
   "execution_count": null,
   "metadata": {},
   "outputs": [],
   "source": []
  }
 ],
 "metadata": {
  "kernelspec": {
   "display_name": "Python 3",
   "language": "python",
   "name": "python3"
  },
  "language_info": {
   "codemirror_mode": {
    "name": "ipython",
    "version": 3
   },
   "file_extension": ".py",
   "mimetype": "text/x-python",
   "name": "python",
   "nbconvert_exporter": "python",
   "pygments_lexer": "ipython3",
   "version": "3.10.6"
  }
 },
 "nbformat": 4,
 "nbformat_minor": 2
}
