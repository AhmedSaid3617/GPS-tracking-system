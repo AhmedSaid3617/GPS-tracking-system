{
 "cells": [
  {
   "cell_type": "code",
   "execution_count": 4,
   "metadata": {},
   "outputs": [
    {
     "name": "stdout",
     "output_type": "stream",
     "text": [
      "Received: moomco\n",
      "Received: moomco\n",
      "Received: moomco\n",
      "Received: moomco\n",
      "Received: moomco\n",
      "Received: moomco\n",
      "Received: moomco\n",
      "Received: moomco\n",
      "Received: moomco\n",
      "Received: moomco\n",
      "Received: moomco\n",
      "Received: moomco\n",
      "Serial connection closed.\n",
      "Data written to file successfully.\n"
     ]
    }
   ],
   "source": [
    "import serial\n",
    "\n",
    "# Define the serial port and baud rate\n",
    "serial_port = 'COM5'  # Change this to your Tivc serial port\n",
    "baud_rate = 9600\n",
    "\n",
    "# Initialize serial communication\n",
    "ser = serial.Serial(serial_port, baud_rate)\n",
    "# Specify the file path\n",
    "file_path = r\"C:\\Users\\20111\\Desktop\\Embedded project\\GPS-tracking-system\\Data.txt\"\n",
    "\n",
    "\n",
    "try:\n",
    "    while True:\n",
    "        # Read data from the serial port\n",
    "        line = ser.readline().decode('utf-8').strip()\n",
    "        \n",
    "        # Print the received data\n",
    "        print(\"Received:\", line)\n",
    "        # Open the file in write mode ('a')\n",
    "        with open(file_path, 'a') as file:\n",
    "            # Write to the file\n",
    "            file.write(line+'\\n')\n",
    "\n",
    "\n",
    "except KeyboardInterrupt:\n",
    "    # Close the serial connection on Ctrl+C\n",
    "    ser.close()\n",
    "    print(\"Serial connection closed.\")\n",
    "print(\"Data written to file successfully.\")\n"
   ]
  },
  {
   "cell_type": "code",
   "execution_count": null,
   "metadata": {},
   "outputs": [],
   "source": []
  }
 ],
 "metadata": {
  "kernelspec": {
   "display_name": "Python 3",
   "language": "python",
   "name": "python3"
  },
  "language_info": {
   "codemirror_mode": {
    "name": "ipython",
    "version": 3
   },
   "file_extension": ".py",
   "mimetype": "text/x-python",
   "name": "python",
   "nbconvert_exporter": "python",
   "pygments_lexer": "ipython3",
   "version": "3.10.6"
  }
 },
 "nbformat": 4,
 "nbformat_minor": 2
}
